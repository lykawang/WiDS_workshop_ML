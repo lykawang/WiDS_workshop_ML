{
  "cells": [
    {
      "cell_type": "markdown",
      "id": "9c7d1901-79b7-489e-9e0f-1c562cca352d",
      "metadata": {
        "tags": [],
        "id": "9c7d1901-79b7-489e-9e0f-1c562cca352d"
      },
      "source": [
        "# WiDS Intro to ML"
      ]
    },
    {
      "cell_type": "code",
      "execution_count": null,
      "id": "a10873b1-8fd8-4753-8757-7b15040e78dd",
      "metadata": {
        "id": "a10873b1-8fd8-4753-8757-7b15040e78dd"
      },
      "outputs": [],
      "source": [
        "from sklearn import datasets\n",
        "import pandas as pd #Import the pandas library: Pandas is a Python library for data analysis.\n",
        "from sklearn.metrics import accuracy_score\n",
        "from sklearn.model_selection import train_test_split\n",
        "from sklearn.tree import DecisionTreeClassifier # import the class DecisionTreeClassifier which implements the decision tree classifier\n",
        "\n",
        "%matplotlib inline\n",
        "import sys"
      ]
    },
    {
      "cell_type": "markdown",
      "id": "2bf2ff4b",
      "metadata": {
        "id": "2bf2ff4b"
      },
      "source": [
        "## Data Source:\n",
        "- Suppose we are working on a Spotify Song recommendation system, we want to predict if a customer will like a given song or not based on the song's features.\n",
        "\n",
        "- Data Description:\n",
        "> A dataset of 2017 songs with attributes from Spotify's API. Each song is labeled \"1\" meaning I like it and \"0\" for songs I don't like. Let's build a classifier that could predict whether or not I would like a song. \n",
        "\n",
        "> The original dataset can be found here: \n",
        "https://www.kaggle.com/datasets/geomack/spotifyclassification\n",
        "\n",
        "<div>\n",
        "<img src=\"https://github.com/Annie814/WiDS-ML-Workshop/blob/main/dataset-cover.jpeg?raw=1\" width=\"600\"/>\n",
        "</div>"
      ]
    },
    {
      "cell_type": "markdown",
      "id": "301b77b3-a8e6-4efc-8f17-b36bc96c6be9",
      "metadata": {
        "id": "301b77b3-a8e6-4efc-8f17-b36bc96c6be9"
      },
      "source": [
        "## Step 1: we will import the data using Panda's read_csv() function:\n",
        "- In the bracket, you must include the file path of the data.\n",
        "    - *Note: index_col=0, indicates what column of the csv to use as the indexes (row labels) of the dataframe. If the dataset doesn't have an id column, You generally don't have to specify that.*"
      ]
    },
    {
      "cell_type": "code",
      "execution_count": null,
      "outputs": [
        {
          "data": {
            "text/plain": "   acousticness  danceability  duration_ms  energy  instrumentalness  key  \\\n0        0.0102         0.833       204600   0.434          0.021900    2   \n1        0.1990         0.743       326933   0.359          0.006110    1   \n2        0.0344         0.838       185707   0.412          0.000234    2   \n3        0.6040         0.494       199413   0.338          0.510000    5   \n4        0.1800         0.678       392893   0.561          0.512000    5   \n\n   liveness  loudness  mode  speechiness    tempo  time_signature  valence  \\\n0    0.1650    -8.795     1       0.4310  150.062             4.0    0.286   \n1    0.1370   -10.401     1       0.0794  160.083             4.0    0.588   \n2    0.1590    -7.148     1       0.2890   75.044             4.0    0.173   \n3    0.0922   -15.236     1       0.0261   86.468             4.0    0.230   \n4    0.4390   -11.648     0       0.0694  174.004             4.0    0.904   \n\n   target      song_title            artist  \n0       1        Mask Off            Future  \n1       1         Redbone  Childish Gambino  \n2       1    Xanny Family            Future  \n3       1  Master Of None       Beach House  \n4       1  Parallel Lines       Junior Boys  ",
            "text/html": "<div>\n<style scoped>\n    .dataframe tbody tr th:only-of-type {\n        vertical-align: middle;\n    }\n\n    .dataframe tbody tr th {\n        vertical-align: top;\n    }\n\n    .dataframe thead th {\n        text-align: right;\n    }\n</style>\n<table border=\"1\" class=\"dataframe\">\n  <thead>\n    <tr style=\"text-align: right;\">\n      <th></th>\n      <th>acousticness</th>\n      <th>danceability</th>\n      <th>duration_ms</th>\n      <th>energy</th>\n      <th>instrumentalness</th>\n      <th>key</th>\n      <th>liveness</th>\n      <th>loudness</th>\n      <th>mode</th>\n      <th>speechiness</th>\n      <th>tempo</th>\n      <th>time_signature</th>\n      <th>valence</th>\n      <th>target</th>\n      <th>song_title</th>\n      <th>artist</th>\n    </tr>\n  </thead>\n  <tbody>\n    <tr>\n      <th>0</th>\n      <td>0.0102</td>\n      <td>0.833</td>\n      <td>204600</td>\n      <td>0.434</td>\n      <td>0.021900</td>\n      <td>2</td>\n      <td>0.1650</td>\n      <td>-8.795</td>\n      <td>1</td>\n      <td>0.4310</td>\n      <td>150.062</td>\n      <td>4.0</td>\n      <td>0.286</td>\n      <td>1</td>\n      <td>Mask Off</td>\n      <td>Future</td>\n    </tr>\n    <tr>\n      <th>1</th>\n      <td>0.1990</td>\n      <td>0.743</td>\n      <td>326933</td>\n      <td>0.359</td>\n      <td>0.006110</td>\n      <td>1</td>\n      <td>0.1370</td>\n      <td>-10.401</td>\n      <td>1</td>\n      <td>0.0794</td>\n      <td>160.083</td>\n      <td>4.0</td>\n      <td>0.588</td>\n      <td>1</td>\n      <td>Redbone</td>\n      <td>Childish Gambino</td>\n    </tr>\n    <tr>\n      <th>2</th>\n      <td>0.0344</td>\n      <td>0.838</td>\n      <td>185707</td>\n      <td>0.412</td>\n      <td>0.000234</td>\n      <td>2</td>\n      <td>0.1590</td>\n      <td>-7.148</td>\n      <td>1</td>\n      <td>0.2890</td>\n      <td>75.044</td>\n      <td>4.0</td>\n      <td>0.173</td>\n      <td>1</td>\n      <td>Xanny Family</td>\n      <td>Future</td>\n    </tr>\n    <tr>\n      <th>3</th>\n      <td>0.6040</td>\n      <td>0.494</td>\n      <td>199413</td>\n      <td>0.338</td>\n      <td>0.510000</td>\n      <td>5</td>\n      <td>0.0922</td>\n      <td>-15.236</td>\n      <td>1</td>\n      <td>0.0261</td>\n      <td>86.468</td>\n      <td>4.0</td>\n      <td>0.230</td>\n      <td>1</td>\n      <td>Master Of None</td>\n      <td>Beach House</td>\n    </tr>\n    <tr>\n      <th>4</th>\n      <td>0.1800</td>\n      <td>0.678</td>\n      <td>392893</td>\n      <td>0.561</td>\n      <td>0.512000</td>\n      <td>5</td>\n      <td>0.4390</td>\n      <td>-11.648</td>\n      <td>0</td>\n      <td>0.0694</td>\n      <td>174.004</td>\n      <td>4.0</td>\n      <td>0.904</td>\n      <td>1</td>\n      <td>Parallel Lines</td>\n      <td>Junior Boys</td>\n    </tr>\n  </tbody>\n</table>\n</div>"
          },
          "execution_count": 2,
          "metadata": {},
          "output_type": "execute_result"
        }
      ],
      "source": [
        "spotify_df = pd.read_csv(\"data.csv\", index_col = 0)\n",
        "spotify_df.head()"
      ],
      "metadata": {
        "id": "iP1E6X6Vr_qH",
        "outputId": "396dc6cf-a3d9-45ba-be31-e962b2193985"
      },
      "id": "iP1E6X6Vr_qH"
    },
    {
      "cell_type": "markdown",
      "source": [
        "Now we split the dataset into train and test sets:\n",
        "> We divide our data into training and test set in the ratio 80:20 respectively (i.e if your input dataset has 100 rows, training data will be 80 rows randomly selected from the input, and test set will have the remaining 20 rows)."
      ],
      "metadata": {
        "collapsed": false,
        "id": "-TObWs3-r_qI"
      },
      "id": "-TObWs3-r_qI"
    },
    {
      "cell_type": "markdown",
      "source": [
        "### Golden Rule of Machine Learning\n",
        "\n",
        "Never mix training and test data together. Always isolate the test set, so that we can use the test set to make prediction and evaluate our model.\n",
        "> You can think of `train_df` as the Practice exams & `test_df` as the FINAL exam.\n",
        "\n",
        "Now lets look at some code:\n"
      ],
      "metadata": {
        "collapsed": false,
        "id": "jpKpjNuJr_qI"
      },
      "id": "jpKpjNuJr_qI"
    },
    {
      "cell_type": "code",
      "execution_count": null,
      "outputs": [],
      "source": [
        "#train_df will contain 80% of the input data, test_df will contain 20% of the input data (flights_df)\n",
        "train_df, test_df = train_test_split(spotify_df, test_size=0.2)"
      ],
      "metadata": {
        "id": "i-cdz3-fr_qJ"
      },
      "id": "i-cdz3-fr_qJ"
    },
    {
      "cell_type": "code",
      "execution_count": null,
      "outputs": [
        {
          "data": {
            "text/plain": "(1613, 16)"
          },
          "execution_count": 4,
          "metadata": {},
          "output_type": "execute_result"
        }
      ],
      "source": [
        "# 1613/(1613 + 404) = 0.8\n",
        "train_df.shape"
      ],
      "metadata": {
        "id": "ZDD8wz-tr_qJ",
        "outputId": "d22176f4-3950-4d6d-c835-e31eb8e7cbd1"
      },
      "id": "ZDD8wz-tr_qJ"
    },
    {
      "cell_type": "code",
      "execution_count": null,
      "outputs": [
        {
          "data": {
            "text/plain": "(404, 16)"
          },
          "execution_count": 5,
          "metadata": {},
          "output_type": "execute_result"
        }
      ],
      "source": [
        "test_df.shape"
      ],
      "metadata": {
        "id": "5U9GCTa7r_qK",
        "outputId": "a7cdf59c-fc7f-408b-8934-dc56eae253f3"
      },
      "id": "5U9GCTa7r_qK"
    },
    {
      "cell_type": "markdown",
      "id": "c3e778f9-b504-4223-92d1-494713833eb8",
      "metadata": {
        "id": "c3e778f9-b504-4223-92d1-494713833eb8"
      },
      "source": [
        "## Step 2: Clean data\n",
        "Let's look at the dataset information to see if there are incomplete rows"
      ]
    },
    {
      "cell_type": "markdown",
      "source": [
        "Looking at `train_df.info()` gives us a rough idea about the features being numeric or textual and the number of `NaNs` in each feature:\n",
        "- Luckily, we don't have any null values in our data, as we can see below:"
      ],
      "metadata": {
        "collapsed": false,
        "id": "MxJjyhLZr_qK"
      },
      "id": "MxJjyhLZr_qK"
    },
    {
      "cell_type": "code",
      "execution_count": null,
      "outputs": [
        {
          "name": "stdout",
          "output_type": "stream",
          "text": [
            "<class 'pandas.core.frame.DataFrame'>\n",
            "Int64Index: 1613 entries, 1687 to 717\n",
            "Data columns (total 16 columns):\n",
            " #   Column            Non-Null Count  Dtype  \n",
            "---  ------            --------------  -----  \n",
            " 0   acousticness      1613 non-null   float64\n",
            " 1   danceability      1613 non-null   float64\n",
            " 2   duration_ms       1613 non-null   int64  \n",
            " 3   energy            1613 non-null   float64\n",
            " 4   instrumentalness  1613 non-null   float64\n",
            " 5   key               1613 non-null   int64  \n",
            " 6   liveness          1613 non-null   float64\n",
            " 7   loudness          1613 non-null   float64\n",
            " 8   mode              1613 non-null   int64  \n",
            " 9   speechiness       1613 non-null   float64\n",
            " 10  tempo             1613 non-null   float64\n",
            " 11  time_signature    1613 non-null   float64\n",
            " 12  valence           1613 non-null   float64\n",
            " 13  target            1613 non-null   int64  \n",
            " 14  song_title        1613 non-null   object \n",
            " 15  artist            1613 non-null   object \n",
            "dtypes: float64(10), int64(4), object(2)\n",
            "memory usage: 214.2+ KB\n"
          ]
        }
      ],
      "source": [
        "train_df.info()"
      ],
      "metadata": {
        "id": "69beNVsTr_qL",
        "outputId": "ad12a95b-03db-4244-e901-44e77cf4464f"
      },
      "id": "69beNVsTr_qL"
    },
    {
      "cell_type": "code",
      "execution_count": null,
      "id": "aba28425-ed73-45bf-9e16-aa246aa0b191",
      "metadata": {
        "id": "aba28425-ed73-45bf-9e16-aa246aa0b191",
        "outputId": "7fc52079-ed76-44d6-cc97-6ecc0ca15206"
      },
      "outputs": [
        {
          "data": {
            "text/plain": "      acousticness  danceability  duration_ms  energy  instrumentalness  key  \\\n1687      0.000353         0.420       210240   0.929          0.000747    7   \n499       0.036500         0.829       336906   0.637          0.023300    5   \n688       0.093800         0.874       281373   0.704          0.000000    9   \n389       0.000239         0.329       255413   0.814          0.094400    7   \n1391      0.289000         0.712       223333   0.625          0.000000    7   \n\n      liveness  loudness  mode  speechiness    tempo  time_signature  valence  \\\n1687    0.1220    -3.899     0       0.1210  127.204             4.0    0.318   \n499     0.2670    -9.481     0       0.0882  120.761             4.0    0.688   \n688     0.4090    -6.270     1       0.1020  119.954             4.0    0.444   \n389     0.0936    -6.005     1       0.0674  120.462             4.0    0.403   \n1391    0.1270    -8.832     1       0.1490  100.004             4.0    0.718   \n\n      target  song_title              artist  \n1687       0  Chop Suey!    System Of A Down  \n499        1     Changes             Crazy P  \n688        1      Shabba           A$AP Ferg  \n389        1  The Moment         Tame Impala  \n1391       0   Dangerous  Clazziquai Project  ",
            "text/html": "<div>\n<style scoped>\n    .dataframe tbody tr th:only-of-type {\n        vertical-align: middle;\n    }\n\n    .dataframe tbody tr th {\n        vertical-align: top;\n    }\n\n    .dataframe thead th {\n        text-align: right;\n    }\n</style>\n<table border=\"1\" class=\"dataframe\">\n  <thead>\n    <tr style=\"text-align: right;\">\n      <th></th>\n      <th>acousticness</th>\n      <th>danceability</th>\n      <th>duration_ms</th>\n      <th>energy</th>\n      <th>instrumentalness</th>\n      <th>key</th>\n      <th>liveness</th>\n      <th>loudness</th>\n      <th>mode</th>\n      <th>speechiness</th>\n      <th>tempo</th>\n      <th>time_signature</th>\n      <th>valence</th>\n      <th>target</th>\n      <th>song_title</th>\n      <th>artist</th>\n    </tr>\n  </thead>\n  <tbody>\n    <tr>\n      <th>1687</th>\n      <td>0.000353</td>\n      <td>0.420</td>\n      <td>210240</td>\n      <td>0.929</td>\n      <td>0.000747</td>\n      <td>7</td>\n      <td>0.1220</td>\n      <td>-3.899</td>\n      <td>0</td>\n      <td>0.1210</td>\n      <td>127.204</td>\n      <td>4.0</td>\n      <td>0.318</td>\n      <td>0</td>\n      <td>Chop Suey!</td>\n      <td>System Of A Down</td>\n    </tr>\n    <tr>\n      <th>499</th>\n      <td>0.036500</td>\n      <td>0.829</td>\n      <td>336906</td>\n      <td>0.637</td>\n      <td>0.023300</td>\n      <td>5</td>\n      <td>0.2670</td>\n      <td>-9.481</td>\n      <td>0</td>\n      <td>0.0882</td>\n      <td>120.761</td>\n      <td>4.0</td>\n      <td>0.688</td>\n      <td>1</td>\n      <td>Changes</td>\n      <td>Crazy P</td>\n    </tr>\n    <tr>\n      <th>688</th>\n      <td>0.093800</td>\n      <td>0.874</td>\n      <td>281373</td>\n      <td>0.704</td>\n      <td>0.000000</td>\n      <td>9</td>\n      <td>0.4090</td>\n      <td>-6.270</td>\n      <td>1</td>\n      <td>0.1020</td>\n      <td>119.954</td>\n      <td>4.0</td>\n      <td>0.444</td>\n      <td>1</td>\n      <td>Shabba</td>\n      <td>A$AP Ferg</td>\n    </tr>\n    <tr>\n      <th>389</th>\n      <td>0.000239</td>\n      <td>0.329</td>\n      <td>255413</td>\n      <td>0.814</td>\n      <td>0.094400</td>\n      <td>7</td>\n      <td>0.0936</td>\n      <td>-6.005</td>\n      <td>1</td>\n      <td>0.0674</td>\n      <td>120.462</td>\n      <td>4.0</td>\n      <td>0.403</td>\n      <td>1</td>\n      <td>The Moment</td>\n      <td>Tame Impala</td>\n    </tr>\n    <tr>\n      <th>1391</th>\n      <td>0.289000</td>\n      <td>0.712</td>\n      <td>223333</td>\n      <td>0.625</td>\n      <td>0.000000</td>\n      <td>7</td>\n      <td>0.1270</td>\n      <td>-8.832</td>\n      <td>1</td>\n      <td>0.1490</td>\n      <td>100.004</td>\n      <td>4.0</td>\n      <td>0.718</td>\n      <td>0</td>\n      <td>Dangerous</td>\n      <td>Clazziquai Project</td>\n    </tr>\n  </tbody>\n</table>\n</div>"
          },
          "execution_count": 7,
          "metadata": {},
          "output_type": "execute_result"
        }
      ],
      "source": [
        "train_df.head()"
      ]
    },
    {
      "cell_type": "markdown",
      "id": "36c5f9fa-7ca9-46db-9bc0-65674b607b87",
      "metadata": {
        "id": "36c5f9fa-7ca9-46db-9bc0-65674b607b87"
      },
      "source": [
        "We can see that song title, artist and target are categorical variables. Therefore we need to transform these into numeric variables.\n",
        "\n",
        "number dummy variables = # categories - 1\n",
        "\n",
        "### How can we do this in python?\n",
        "By Column transformer (will be introduced in the future), but if you are interested you could learn about it here: https://scikit-learn.org/stable/modules/generated/sklearn.compose.ColumnTransformer.html\n",
        "<div>\n",
        "<img src=\"https://github.com/Annie814/WiDS-ML-Workshop/blob/main/columntransformer.png?raw=1\" width=\"800\"/>\n",
        "</div>\n",
        "\n",
        "### For simplicity, We will remove the text features from the data and just understand the model using numeric features for now, Since textual features need some preprocessing."
      ]
    },
    {
      "cell_type": "code",
      "execution_count": null,
      "outputs": [],
      "source": [
        "train_df = train_df.drop(columns=[\"song_title\", \"artist\"])\n",
        "test_df = test_df.drop(columns=[\"song_title\", \"artist\"])"
      ],
      "metadata": {
        "id": "UzDXxMy7r_qL"
      },
      "id": "UzDXxMy7r_qL"
    },
    {
      "cell_type": "markdown",
      "source": [
        "## Step 3: Train Model"
      ],
      "metadata": {
        "collapsed": false,
        "id": "Hz3qdLGor_qM"
      },
      "id": "Hz3qdLGor_qM"
    },
    {
      "cell_type": "markdown",
      "source": [
        "### Now we are ready to train our model!\n",
        "The next step is to build a model using a machine learning algorithm. There are a lot of algorithms out there. Each algorithm has its pros and cons in terms of the performance. For this workshop we will use a very simple algorithm called Decision Tree.\n",
        "- We don't have to program this algorithm, it's actually already implemented for us in the library called scikit-learn (you will see the library imported the class DecisionTreeClassifier which implements the decision tree classifier)."
      ],
      "metadata": {
        "collapsed": false,
        "id": "5GguOxGZr_qM"
      },
      "id": "5GguOxGZr_qM"
    },
    {
      "cell_type": "markdown",
      "source": [
        "### Here we are separating the target (AKA, response variables, y variable..) from the features (AKA, independent variables,predictors,x variables..)\n"
      ],
      "metadata": {
        "collapsed": false,
        "id": "Xa4uQHUbr_qM"
      },
      "id": "Xa4uQHUbr_qM"
    },
    {
      "cell_type": "code",
      "execution_count": null,
      "outputs": [],
      "source": [
        "# features,target :will be usedFOR TRAINING, think about them as the Practise exams and their answer keys\n",
        "X_train,y_train = train_df.drop(columns=[\"target\"]), train_df['target']\n",
        "\n",
        "# features,target :will be used FOR TESTING, think about them as the FINAL exams and  answer keys\n",
        "X_test, y_test = test_df.drop(columns=[\"target\"]), test_df['target']"
      ],
      "metadata": {
        "id": "0UfBNApor_qM"
      },
      "id": "0UfBNApor_qM"
    },
    {
      "cell_type": "code",
      "execution_count": null,
      "outputs": [
        {
          "data": {
            "text/plain": "      acousticness  danceability  duration_ms  energy  instrumentalness  key  \\\n1687      0.000353         0.420       210240   0.929          0.000747    7   \n499       0.036500         0.829       336906   0.637          0.023300    5   \n688       0.093800         0.874       281373   0.704          0.000000    9   \n389       0.000239         0.329       255413   0.814          0.094400    7   \n1391      0.289000         0.712       223333   0.625          0.000000    7   \n...            ...           ...          ...     ...               ...  ...   \n463       0.006490         0.805       213280   0.596          0.007720    7   \n1327      0.000046         0.261       149278   0.863          0.000007   11   \n1875      0.081600         0.611       152869   0.487          0.116000    2   \n1724      0.067000         0.829       243159   0.652          0.000000    7   \n717       0.003490         0.772       227880   0.407          0.000024    6   \n\n      liveness  loudness  mode  speechiness    tempo  time_signature  valence  \n1687    0.1220    -3.899     0       0.1210  127.204             4.0    0.318  \n499     0.2670    -9.481     0       0.0882  120.761             4.0    0.688  \n688     0.4090    -6.270     1       0.1020  119.954             4.0    0.444  \n389     0.0936    -6.005     1       0.0674  120.462             4.0    0.403  \n1391    0.1270    -8.832     1       0.1490  100.004             4.0    0.718  \n...        ...       ...   ...          ...      ...             ...      ...  \n463     0.2990    -6.007     1       0.1190   81.004             4.0    0.753  \n1327    0.3290    -7.199     1       0.0721  108.347             4.0    0.316  \n1875    0.1110   -10.629     1       0.0275  105.034             3.0    0.667  \n1724    0.0812    -8.693     0       0.1080   99.581             4.0    0.717  \n717     0.0705    -7.442     0       0.0907  100.006             4.0    0.287  \n\n[1613 rows x 13 columns]",
            "text/html": "<div>\n<style scoped>\n    .dataframe tbody tr th:only-of-type {\n        vertical-align: middle;\n    }\n\n    .dataframe tbody tr th {\n        vertical-align: top;\n    }\n\n    .dataframe thead th {\n        text-align: right;\n    }\n</style>\n<table border=\"1\" class=\"dataframe\">\n  <thead>\n    <tr style=\"text-align: right;\">\n      <th></th>\n      <th>acousticness</th>\n      <th>danceability</th>\n      <th>duration_ms</th>\n      <th>energy</th>\n      <th>instrumentalness</th>\n      <th>key</th>\n      <th>liveness</th>\n      <th>loudness</th>\n      <th>mode</th>\n      <th>speechiness</th>\n      <th>tempo</th>\n      <th>time_signature</th>\n      <th>valence</th>\n    </tr>\n  </thead>\n  <tbody>\n    <tr>\n      <th>1687</th>\n      <td>0.000353</td>\n      <td>0.420</td>\n      <td>210240</td>\n      <td>0.929</td>\n      <td>0.000747</td>\n      <td>7</td>\n      <td>0.1220</td>\n      <td>-3.899</td>\n      <td>0</td>\n      <td>0.1210</td>\n      <td>127.204</td>\n      <td>4.0</td>\n      <td>0.318</td>\n    </tr>\n    <tr>\n      <th>499</th>\n      <td>0.036500</td>\n      <td>0.829</td>\n      <td>336906</td>\n      <td>0.637</td>\n      <td>0.023300</td>\n      <td>5</td>\n      <td>0.2670</td>\n      <td>-9.481</td>\n      <td>0</td>\n      <td>0.0882</td>\n      <td>120.761</td>\n      <td>4.0</td>\n      <td>0.688</td>\n    </tr>\n    <tr>\n      <th>688</th>\n      <td>0.093800</td>\n      <td>0.874</td>\n      <td>281373</td>\n      <td>0.704</td>\n      <td>0.000000</td>\n      <td>9</td>\n      <td>0.4090</td>\n      <td>-6.270</td>\n      <td>1</td>\n      <td>0.1020</td>\n      <td>119.954</td>\n      <td>4.0</td>\n      <td>0.444</td>\n    </tr>\n    <tr>\n      <th>389</th>\n      <td>0.000239</td>\n      <td>0.329</td>\n      <td>255413</td>\n      <td>0.814</td>\n      <td>0.094400</td>\n      <td>7</td>\n      <td>0.0936</td>\n      <td>-6.005</td>\n      <td>1</td>\n      <td>0.0674</td>\n      <td>120.462</td>\n      <td>4.0</td>\n      <td>0.403</td>\n    </tr>\n    <tr>\n      <th>1391</th>\n      <td>0.289000</td>\n      <td>0.712</td>\n      <td>223333</td>\n      <td>0.625</td>\n      <td>0.000000</td>\n      <td>7</td>\n      <td>0.1270</td>\n      <td>-8.832</td>\n      <td>1</td>\n      <td>0.1490</td>\n      <td>100.004</td>\n      <td>4.0</td>\n      <td>0.718</td>\n    </tr>\n    <tr>\n      <th>...</th>\n      <td>...</td>\n      <td>...</td>\n      <td>...</td>\n      <td>...</td>\n      <td>...</td>\n      <td>...</td>\n      <td>...</td>\n      <td>...</td>\n      <td>...</td>\n      <td>...</td>\n      <td>...</td>\n      <td>...</td>\n      <td>...</td>\n    </tr>\n    <tr>\n      <th>463</th>\n      <td>0.006490</td>\n      <td>0.805</td>\n      <td>213280</td>\n      <td>0.596</td>\n      <td>0.007720</td>\n      <td>7</td>\n      <td>0.2990</td>\n      <td>-6.007</td>\n      <td>1</td>\n      <td>0.1190</td>\n      <td>81.004</td>\n      <td>4.0</td>\n      <td>0.753</td>\n    </tr>\n    <tr>\n      <th>1327</th>\n      <td>0.000046</td>\n      <td>0.261</td>\n      <td>149278</td>\n      <td>0.863</td>\n      <td>0.000007</td>\n      <td>11</td>\n      <td>0.3290</td>\n      <td>-7.199</td>\n      <td>1</td>\n      <td>0.0721</td>\n      <td>108.347</td>\n      <td>4.0</td>\n      <td>0.316</td>\n    </tr>\n    <tr>\n      <th>1875</th>\n      <td>0.081600</td>\n      <td>0.611</td>\n      <td>152869</td>\n      <td>0.487</td>\n      <td>0.116000</td>\n      <td>2</td>\n      <td>0.1110</td>\n      <td>-10.629</td>\n      <td>1</td>\n      <td>0.0275</td>\n      <td>105.034</td>\n      <td>3.0</td>\n      <td>0.667</td>\n    </tr>\n    <tr>\n      <th>1724</th>\n      <td>0.067000</td>\n      <td>0.829</td>\n      <td>243159</td>\n      <td>0.652</td>\n      <td>0.000000</td>\n      <td>7</td>\n      <td>0.0812</td>\n      <td>-8.693</td>\n      <td>0</td>\n      <td>0.1080</td>\n      <td>99.581</td>\n      <td>4.0</td>\n      <td>0.717</td>\n    </tr>\n    <tr>\n      <th>717</th>\n      <td>0.003490</td>\n      <td>0.772</td>\n      <td>227880</td>\n      <td>0.407</td>\n      <td>0.000024</td>\n      <td>6</td>\n      <td>0.0705</td>\n      <td>-7.442</td>\n      <td>0</td>\n      <td>0.0907</td>\n      <td>100.006</td>\n      <td>4.0</td>\n      <td>0.287</td>\n    </tr>\n  </tbody>\n</table>\n<p>1613 rows × 13 columns</p>\n</div>"
          },
          "execution_count": 10,
          "metadata": {},
          "output_type": "execute_result"
        }
      ],
      "source": [
        "X_train"
      ],
      "metadata": {
        "id": "gDtqY4lvr_qM",
        "outputId": "fa6092ce-cd64-41fd-991f-e47d336fe17f"
      },
      "id": "gDtqY4lvr_qM"
    },
    {
      "cell_type": "code",
      "execution_count": null,
      "outputs": [
        {
          "data": {
            "text/plain": "1687    0\n499     1\n688     1\n389     1\n1391    0\n       ..\n463     1\n1327    0\n1875    0\n1724    0\n717     1\nName: target, Length: 1613, dtype: int64"
          },
          "execution_count": 11,
          "metadata": {},
          "output_type": "execute_result"
        }
      ],
      "source": [
        "y_train"
      ],
      "metadata": {
        "id": "1OSOpF8Vr_qN",
        "outputId": "139e2365-a7fa-49a1-ebd6-05339edddec6"
      },
      "id": "1OSOpF8Vr_qN"
    },
    {
      "cell_type": "markdown",
      "id": "6542bde4-6ce9-47b6-b102-2200722ee515",
      "metadata": {
        "id": "6542bde4-6ce9-47b6-b102-2200722ee515"
      },
      "source": [
        "Let's talk about Decision Tree. Our goal here is to determine weather the customer likes the song or not. We can use Decision Tree algorithm here for creating the model for classification problems like this one."
      ]
    },
    {
      "cell_type": "markdown",
      "source": [
        "### What is a Decision Tree?"
      ],
      "metadata": {
        "collapsed": false,
        "id": "RYOXchCvr_qN"
      },
      "id": "RYOXchCvr_qN"
    },
    {
      "cell_type": "markdown",
      "source": [
        "- classification model that predicts value of target based on learning simple \"rules\" that it obtained from the data pattern.\n",
        "Let us consider the following data:\n",
        "<div>\n",
        "<img src=\"https://github.com/Annie814/WiDS-ML-Workshop/blob/main/img.png?raw=1\" width=\"1000\"/>\n",
        "</div>"
      ],
      "metadata": {
        "collapsed": false,
        "id": "fZvtNozgr_qN"
      },
      "id": "fZvtNozgr_qN"
    },
    {
      "cell_type": "markdown",
      "source": [
        "This is one possible tree for this problem.\n",
        "<div>\n",
        "<img src=\"https://github.com/Annie814/WiDS-ML-Workshop/blob/main/DecisionTree.png?raw=1\" width=\"1000\"/>\n",
        "</div>"
      ],
      "metadata": {
        "collapsed": false,
        "id": "n-w7_BY1r_qN"
      },
      "id": "n-w7_BY1r_qN"
    },
    {
      "cell_type": "markdown",
      "source": [
        "**Pros of Decision Tree Classifier:**\n",
        "\n",
        "    - simple to understand\n",
        "    - easy to visualize\n",
        "    - generate understandable rules.\n",
        "    - perform classification without requiring much computation.\n",
        "\n",
        "**Cons:**\n",
        "\n",
        "    - less appropriate for estimation tasks where the goal is to predict the value of a continuous attribute.\n",
        "    - prone to errors in classification problems with many class and a relatively small number of training examples."
      ],
      "metadata": {
        "collapsed": false,
        "id": "gjGfWzmCr_qN"
      },
      "id": "gjGfWzmCr_qN"
    },
    {
      "cell_type": "markdown",
      "source": [
        "### How can we build a decision tree model in python?"
      ],
      "metadata": {
        "collapsed": false,
        "id": "AZL6dZ5Or_qN"
      },
      "id": "AZL6dZ5Or_qN"
    },
    {
      "cell_type": "markdown",
      "source": [
        "Now lets fit the model:\n"
      ],
      "metadata": {
        "collapsed": false,
        "id": "b0PX3JB8r_qN"
      },
      "id": "b0PX3JB8r_qN"
    },
    {
      "cell_type": "code",
      "execution_count": null,
      "outputs": [
        {
          "data": {
            "text/plain": "DecisionTreeClassifier()",
            "text/html": "<style>#sk-container-id-1 {color: black;background-color: white;}#sk-container-id-1 pre{padding: 0;}#sk-container-id-1 div.sk-toggleable {background-color: white;}#sk-container-id-1 label.sk-toggleable__label {cursor: pointer;display: block;width: 100%;margin-bottom: 0;padding: 0.3em;box-sizing: border-box;text-align: center;}#sk-container-id-1 label.sk-toggleable__label-arrow:before {content: \"▸\";float: left;margin-right: 0.25em;color: #696969;}#sk-container-id-1 label.sk-toggleable__label-arrow:hover:before {color: black;}#sk-container-id-1 div.sk-estimator:hover label.sk-toggleable__label-arrow:before {color: black;}#sk-container-id-1 div.sk-toggleable__content {max-height: 0;max-width: 0;overflow: hidden;text-align: left;background-color: #f0f8ff;}#sk-container-id-1 div.sk-toggleable__content pre {margin: 0.2em;color: black;border-radius: 0.25em;background-color: #f0f8ff;}#sk-container-id-1 input.sk-toggleable__control:checked~div.sk-toggleable__content {max-height: 200px;max-width: 100%;overflow: auto;}#sk-container-id-1 input.sk-toggleable__control:checked~label.sk-toggleable__label-arrow:before {content: \"▾\";}#sk-container-id-1 div.sk-estimator input.sk-toggleable__control:checked~label.sk-toggleable__label {background-color: #d4ebff;}#sk-container-id-1 div.sk-label input.sk-toggleable__control:checked~label.sk-toggleable__label {background-color: #d4ebff;}#sk-container-id-1 input.sk-hidden--visually {border: 0;clip: rect(1px 1px 1px 1px);clip: rect(1px, 1px, 1px, 1px);height: 1px;margin: -1px;overflow: hidden;padding: 0;position: absolute;width: 1px;}#sk-container-id-1 div.sk-estimator {font-family: monospace;background-color: #f0f8ff;border: 1px dotted black;border-radius: 0.25em;box-sizing: border-box;margin-bottom: 0.5em;}#sk-container-id-1 div.sk-estimator:hover {background-color: #d4ebff;}#sk-container-id-1 div.sk-parallel-item::after {content: \"\";width: 100%;border-bottom: 1px solid gray;flex-grow: 1;}#sk-container-id-1 div.sk-label:hover label.sk-toggleable__label {background-color: #d4ebff;}#sk-container-id-1 div.sk-serial::before {content: \"\";position: absolute;border-left: 1px solid gray;box-sizing: border-box;top: 0;bottom: 0;left: 50%;z-index: 0;}#sk-container-id-1 div.sk-serial {display: flex;flex-direction: column;align-items: center;background-color: white;padding-right: 0.2em;padding-left: 0.2em;position: relative;}#sk-container-id-1 div.sk-item {position: relative;z-index: 1;}#sk-container-id-1 div.sk-parallel {display: flex;align-items: stretch;justify-content: center;background-color: white;position: relative;}#sk-container-id-1 div.sk-item::before, #sk-container-id-1 div.sk-parallel-item::before {content: \"\";position: absolute;border-left: 1px solid gray;box-sizing: border-box;top: 0;bottom: 0;left: 50%;z-index: -1;}#sk-container-id-1 div.sk-parallel-item {display: flex;flex-direction: column;z-index: 1;position: relative;background-color: white;}#sk-container-id-1 div.sk-parallel-item:first-child::after {align-self: flex-end;width: 50%;}#sk-container-id-1 div.sk-parallel-item:last-child::after {align-self: flex-start;width: 50%;}#sk-container-id-1 div.sk-parallel-item:only-child::after {width: 0;}#sk-container-id-1 div.sk-dashed-wrapped {border: 1px dashed gray;margin: 0 0.4em 0.5em 0.4em;box-sizing: border-box;padding-bottom: 0.4em;background-color: white;}#sk-container-id-1 div.sk-label label {font-family: monospace;font-weight: bold;display: inline-block;line-height: 1.2em;}#sk-container-id-1 div.sk-label-container {text-align: center;}#sk-container-id-1 div.sk-container {/* jupyter's `normalize.less` sets `[hidden] { display: none; }` but bootstrap.min.css set `[hidden] { display: none !important; }` so we also need the `!important` here to be able to override the default hidden behavior on the sphinx rendered scikit-learn.org. See: https://github.com/scikit-learn/scikit-learn/issues/21755 */display: inline-block !important;position: relative;}#sk-container-id-1 div.sk-text-repr-fallback {display: none;}</style><div id=\"sk-container-id-1\" class=\"sk-top-container\"><div class=\"sk-text-repr-fallback\"><pre>DecisionTreeClassifier()</pre><b>In a Jupyter environment, please rerun this cell to show the HTML representation or trust the notebook. <br />On GitHub, the HTML representation is unable to render, please try loading this page with nbviewer.org.</b></div><div class=\"sk-container\" hidden><div class=\"sk-item\"><div class=\"sk-estimator sk-toggleable\"><input class=\"sk-toggleable__control sk-hidden--visually\" id=\"sk-estimator-id-1\" type=\"checkbox\" checked><label for=\"sk-estimator-id-1\" class=\"sk-toggleable__label sk-toggleable__label-arrow\">DecisionTreeClassifier</label><div class=\"sk-toggleable__content\"><pre>DecisionTreeClassifier()</pre></div></div></div></div></div>"
          },
          "execution_count": 12,
          "metadata": {},
          "output_type": "execute_result"
        }
      ],
      "source": [
        "# We need to create an object, let's call it model, and set it to a new instance of Decision Tree Classifier.\n",
        "model = DecisionTreeClassifier()\n",
        "# next we need to train it, so it learns the patterns of the INPUT train-set & OUTPUT train-set. Recall the Golden Rule of ML.\n",
        "# The input is X_train, the output is y_train\n",
        "model.fit(X_train, y_train)\n",
        "# The output is just a visual for the model object you just fitted/trained."
      ],
      "metadata": {
        "id": "MGgR2MgAr_qN",
        "outputId": "2511650d-edc9-4e4a-9f81-3f83578d8e0f"
      },
      "id": "MGgR2MgAr_qN"
    },
    {
      "cell_type": "markdown",
      "source": [
        "## Step 4: Make Predictions\n",
        "After fitting the model, we can predict on the testing set, and also evaluate our decision tree by calculating its accuracy."
      ],
      "metadata": {
        "collapsed": false,
        "id": "mPCQxI2Ar_qO"
      },
      "id": "mPCQxI2Ar_qO"
    },
    {
      "cell_type": "code",
      "execution_count": null,
      "outputs": [
        {
          "data": {
            "text/plain": "array([0, 1, 0, 1, 0, 0, 1, 0, 1, 0, 0, 0, 1, 0, 1, 1, 1, 0, 0, 0, 1, 0,\n       1, 1, 1, 0, 1, 1, 0, 0, 1, 1, 1, 0, 1, 1, 0, 0, 0, 0, 0, 0, 0, 0,\n       0, 0, 0, 1, 0, 1, 0, 0, 0, 0, 1, 0, 0, 0, 1, 1, 1, 1, 0, 0, 0, 0,\n       0, 1, 0, 0, 0, 1, 1, 1, 1, 0, 1, 1, 1, 1, 0, 1, 0, 0, 0, 1, 0, 0,\n       0, 1, 1, 0, 0, 0, 1, 1, 0, 1, 1, 0, 1, 0, 1, 0, 1, 0, 1, 0, 1, 0,\n       1, 1, 0, 0, 0, 1, 0, 0, 1, 1, 1, 0, 0, 0, 0, 0, 1, 1, 1, 1, 1, 1,\n       0, 1, 0, 0, 0, 0, 1, 0, 1, 1, 1, 0, 1, 0, 1, 1, 0, 1, 0, 1, 1, 0,\n       0, 0, 0, 0, 1, 1, 1, 0, 1, 1, 1, 0, 0, 0, 1, 1, 0, 1, 1, 0, 1, 1,\n       0, 1, 1, 1, 0, 0, 1, 0, 1, 0, 1, 0, 1, 0, 1, 1, 0, 1, 0, 1, 0, 0,\n       0, 0, 0, 1, 0, 0, 1, 1, 0, 0, 0, 1, 0, 0, 1, 1, 1, 1, 1, 1, 1, 0,\n       1, 0, 1, 0, 0, 0, 1, 1, 1, 0, 1, 1, 0, 0, 1, 0, 1, 0, 1, 0, 1, 1,\n       0, 0, 0, 0, 0, 1, 1, 1, 0, 0, 0, 1, 1, 0, 0, 0, 0, 0, 1, 1, 0, 0,\n       0, 1, 0, 0, 0, 1, 1, 1, 0, 0, 1, 0, 0, 1, 0, 1, 1, 0, 1, 1, 0, 1,\n       0, 0, 1, 0, 0, 1, 0, 1, 1, 1, 0, 1, 1, 0, 0, 1, 1, 1, 1, 0, 0, 1,\n       1, 0, 1, 0, 0, 0, 0, 0, 0, 0, 1, 1, 1, 1, 0, 1, 1, 0, 0, 0, 1, 1,\n       0, 0, 0, 0, 1, 0, 1, 0, 1, 0, 1, 0, 1, 1, 1, 0, 1, 0, 1, 0, 0, 0,\n       0, 0, 1, 1, 0, 0, 0, 1, 1, 0, 1, 1, 1, 0, 1, 0, 0, 0, 1, 0, 0, 0,\n       1, 1, 0, 0, 1, 1, 1, 0, 1, 1, 1, 1, 1, 0, 0, 1, 0, 1, 0, 0, 1, 1,\n       0, 0, 1, 0, 0, 0, 1, 0])"
          },
          "execution_count": 13,
          "metadata": {},
          "output_type": "execute_result"
        }
      ],
      "source": [
        "predict = model.predict(X_test)\n",
        "predict"
      ],
      "metadata": {
        "id": "6f-VdMcOr_qO",
        "outputId": "c3f9b293-5071-4fee-c8f3-5be6f5be3dbf"
      },
      "id": "6f-VdMcOr_qO"
    },
    {
      "cell_type": "code",
      "execution_count": null,
      "outputs": [],
      "source": [
        "# combining the predicted value with the test data set:\n",
        "pred_result = test_df\n",
        "pred_result['predicted'] = predict.tolist()"
      ],
      "metadata": {
        "pycharm": {
          "is_executing": true
        },
        "id": "HDb6_zvOr_qO"
      },
      "id": "HDb6_zvOr_qO"
    },
    {
      "cell_type": "code",
      "execution_count": null,
      "outputs": [],
      "source": [
        "pred_result"
      ],
      "metadata": {
        "pycharm": {
          "is_executing": true
        },
        "id": "piB22b-Mr_qO"
      },
      "id": "piB22b-Mr_qO"
    },
    {
      "cell_type": "markdown",
      "source": [
        "## Step 5: Evaluate the model and make improvement on its performance (Accuracy)"
      ],
      "metadata": {
        "collapsed": false,
        "id": "I2VTG0HTr_qO"
      },
      "id": "I2VTG0HTr_qO"
    },
    {
      "cell_type": "code",
      "execution_count": null,
      "outputs": [],
      "source": [
        "accuracy = accuracy_score(y_test, predict)\n",
        "accuracy"
      ],
      "metadata": {
        "pycharm": {
          "is_executing": true
        },
        "id": "CheojtMmr_qO"
      },
      "id": "CheojtMmr_qO"
    },
    {
      "cell_type": "markdown",
      "source": [
        "> The test accuracy score is one of the metrics to see how our model generalize to unseen data (This is the key for Machine Learning: Our model should generalize well for new observations). We want our model to have high accuracy when predicting the test set, so we have more confident on the model accuracy after it's deployed to real world.\n",
        "\n",
        "### Improving the model accuracy by Hyperparameter tuning:\n",
        "Did some magic here to tune the parameter that goes into our DecisionTree Algorithm:"
      ],
      "metadata": {
        "collapsed": false,
        "id": "IuEto_Mlr_qO"
      },
      "id": "IuEto_Mlr_qO"
    },
    {
      "cell_type": "code",
      "execution_count": null,
      "outputs": [],
      "source": [
        "from sklearn.model_selection import cross_validate\n",
        "import numpy as np\n",
        "results_dict = {\n",
        "    \"max_depth\": [],\n",
        "    \"mean_train_score\": [],\n",
        "    \"mean_cv_score\": []\n",
        "}\n",
        "\n",
        "for depth in range(1, 26):\n",
        "    model = DecisionTreeClassifier(max_depth=depth)\n",
        "    cv_score = cross_validate(model, X_train, y_train, cv=10, return_train_score=True)\n",
        "    results_dict[\"max_depth\"].append(depth)\n",
        "    results_dict[\"mean_cv_score\"].append( np.mean(cv_score[\"test_score\"]))\n",
        "    results_dict[\"mean_train_score\"].append( np.mean(cv_score[\"train_score\"]))\n",
        "\n",
        "result_df = pd.DataFrame(results_dict)\n",
        "result_df"
      ],
      "metadata": {
        "pycharm": {
          "is_executing": true
        },
        "id": "90L3IkOar_qO"
      },
      "id": "90L3IkOar_qO"
    },
    {
      "cell_type": "code",
      "execution_count": null,
      "outputs": [],
      "source": [
        "optimized_depth = result_df[result_df.mean_cv_score == result_df.mean_cv_score.max()].iloc[0,0]\n",
        "model_optimized = DecisionTreeClassifier(max_depth = optimized_depth)\n",
        "model_optimized.fit(X_train, y_train)"
      ],
      "metadata": {
        "pycharm": {
          "is_executing": true
        },
        "id": "oAudNLBZr_qO"
      },
      "id": "oAudNLBZr_qO"
    },
    {
      "cell_type": "code",
      "execution_count": null,
      "outputs": [],
      "source": [
        "optimized_depth"
      ],
      "metadata": {
        "pycharm": {
          "is_executing": true
        },
        "id": "VFTkfFbQr_qP"
      },
      "id": "VFTkfFbQr_qP"
    },
    {
      "cell_type": "code",
      "execution_count": null,
      "outputs": [],
      "source": [
        "predict = model_optimized.predict(X_test)\n",
        "\n",
        "accuracy = accuracy_score(y_test, predict)\n",
        "\n",
        "accuracy"
      ],
      "metadata": {
        "pycharm": {
          "is_executing": true
        },
        "id": "2H5Qps6hr_qP"
      },
      "id": "2H5Qps6hr_qP"
    },
    {
      "cell_type": "markdown",
      "source": [
        "In reality most classifiers will never have 100% accuracy. And indeed in our case it doesn't reach a 100% accuracy. This is just a quick demo to show you the Step 5 where further improvements on the model can be done using Hyperparameter tuning."
      ],
      "metadata": {
        "collapsed": false,
        "id": "zQdmwnyQr_qP"
      },
      "id": "zQdmwnyQr_qP"
    },
    {
      "cell_type": "markdown",
      "id": "5e6a7daf-a3f7-42ba-af01-add4d1c0a9e4",
      "metadata": {
        "id": "5e6a7daf-a3f7-42ba-af01-add4d1c0a9e4"
      },
      "source": [
        "### Exercis for you: Let's Dive into Some Python Codes Now"
      ]
    },
    {
      "cell_type": "markdown",
      "id": "ca8c6266-644d-4d20-85c9-84e4dd0fdc3c",
      "metadata": {
        "id": "ca8c6266-644d-4d20-85c9-84e4dd0fdc3c"
      },
      "source": [
        "Now we are building a model on the iris flower dataset. Start by importing the datasets library from `sklearn`, and load the iris data set."
      ]
    },
    {
      "cell_type": "code",
      "execution_count": null,
      "id": "eaefd785-814d-44ba-8301-53f1e53d7e93",
      "metadata": {
        "pycharm": {
          "is_executing": true
        },
        "id": "eaefd785-814d-44ba-8301-53f1e53d7e93"
      },
      "outputs": [],
      "source": [
        "#Load dataset + create a dataframe of this iris dataset. (you can ignore this step)\n",
        "iris =  datasets.load_iris()\n",
        "data = pd.DataFrame({\n",
        "    'sepal_length': iris.data[:,0],\n",
        "    'sepal_width': iris.data[:,1],\n",
        "    'petal_length': iris.data[:,2],\n",
        "    'petal_width': iris.data[:,3],\n",
        "    'species': iris.target\n",
        "})\n",
        "\n",
        "data.head(5)"
      ]
    },
    {
      "cell_type": "markdown",
      "source": [
        "Let's print the target and feature variable names just to make sure that we are using the right dataset"
      ],
      "metadata": {
        "collapsed": false,
        "id": "aO46ilWjr_qP"
      },
      "id": "aO46ilWjr_qP"
    },
    {
      "cell_type": "code",
      "execution_count": null,
      "outputs": [],
      "source": [
        "print(iris.target_names)\n",
        "print(iris.feature_names)"
      ],
      "metadata": {
        "pycharm": {
          "is_executing": true
        },
        "id": "ZC7KUM_6r_qP"
      },
      "id": "ZC7KUM_6r_qP"
    },
    {
      "cell_type": "markdown",
      "source": [
        "### Now Please complete the `#TODO`s:"
      ],
      "metadata": {
        "collapsed": false,
        "id": "cgNoAzdsr_qP"
      },
      "id": "cgNoAzdsr_qP"
    },
    {
      "cell_type": "markdown",
      "source": [
        "We use the `train_test_split` function to split variables into train and test set (Let's take 75% to training and 25% to testing), and train the model on the train set and perform predictions on the test set."
      ],
      "metadata": {
        "collapsed": false,
        "id": "9I7-XxGCr_qP"
      },
      "id": "9I7-XxGCr_qP"
    },
    {
      "cell_type": "code",
      "execution_count": null,
      "outputs": [],
      "source": [
        "train_df, test_df = train_test_split(#TODO)"
      ],
      "metadata": {
        "pycharm": {
          "is_executing": true
        },
        "id": "8LCqHN1Gr_qQ"
      },
      "id": "8LCqHN1Gr_qQ"
    },
    {
      "cell_type": "markdown",
      "source": [
        "Since the species of iris flower is what we are interested in classifying, we first separate columns accordingly into dependent and independent variables.\n",
        "Steps as follow:"
      ],
      "metadata": {
        "collapsed": false,
        "id": "WxFxXgaxr_qQ"
      },
      "id": "WxFxXgaxr_qQ"
    },
    {
      "cell_type": "code",
      "execution_count": null,
      "outputs": [],
      "source": [
        "# Seperate cols to dependent and independent variables\n",
        "X_train, y_train = train_df.drop(columns=[\"species\"]), train_df[\"species\"]\n",
        "X_test, y_test = #TODO"
      ],
      "metadata": {
        "pycharm": {
          "is_executing": true
        },
        "id": "weXfIjJlr_qQ"
      },
      "id": "weXfIjJlr_qQ"
    },
    {
      "cell_type": "code",
      "execution_count": null,
      "outputs": [],
      "source": [
        "# create the classifier\n",
        "model = #TODO\n",
        "model.fit(#TODO)\n",
        "# make the prediction using the Decision Tree model with the test x values( hint: X_test)\n",
        "y_pred = model.predict(#TODO)"
      ],
      "metadata": {
        "pycharm": {
          "is_executing": true
        },
        "id": "iuefk8OQr_qQ"
      },
      "id": "iuefk8OQr_qQ"
    },
    {
      "cell_type": "markdown",
      "id": "607d69e7-c521-40c5-a07b-9e50639eeb1e",
      "metadata": {
        "id": "607d69e7-c521-40c5-a07b-9e50639eeb1e"
      },
      "source": [
        "We now examine the Decision tree model's accuracy using the actual y (species) value and the predicted values given by the model."
      ]
    },
    {
      "cell_type": "code",
      "execution_count": null,
      "id": "29548437-e06b-45e2-ba51-ec4baf5712f8",
      "metadata": {
        "pycharm": {
          "is_executing": true
        },
        "id": "29548437-e06b-45e2-ba51-ec4baf5712f8"
      },
      "outputs": [],
      "source": [
        "print(\"The accuracy for Decision Tree model is: \", round(accuracy_score(y_test, y_pred),4))"
      ]
    },
    {
      "cell_type": "markdown",
      "id": "74913b2a-c29e-4823-9f18-854e9fd58c23",
      "metadata": {
        "id": "74913b2a-c29e-4823-9f18-854e9fd58c23"
      },
      "source": [
        "And we say the accuracy is pretty high for such model! To make a prediction on a single observation, we can also use the `predict()` function.\n",
        "For example:  \n",
        "    - sepal length = 3  \n",
        "    - sepal width = 6  \n",
        "    - petal length = 6  \n",
        "    - petal width = 4  \n",
        "Now we can predict which type of the iris flower it is as below."
      ]
    },
    {
      "cell_type": "code",
      "execution_count": null,
      "id": "ecc6e926-ebcc-493a-aa93-f16171772754",
      "metadata": {
        "pycharm": {
          "is_executing": true
        },
        "id": "ecc6e926-ebcc-493a-aa93-f16171772754"
      },
      "outputs": [],
      "source": [
        "model.predict([[3,6,6,4]])"
      ]
    },
    {
      "cell_type": "markdown",
      "id": "00e00eac-b901-431c-acc1-f5482c7eb212",
      "metadata": {
        "id": "00e00eac-b901-431c-acc1-f5482c7eb212"
      },
      "source": [
        "Here, the output is 2, which indicates an iris type of Virginica."
      ]
    },
    {
      "cell_type": "markdown",
      "id": "94c3e69b-fb31-4e31-bebc-1720d4507699",
      "metadata": {
        "id": "94c3e69b-fb31-4e31-bebc-1720d4507699"
      },
      "source": [
        "<div>\n",
        "<img src=\"https://github.com/Annie814/WiDS-ML-Workshop/blob/main/survey.jpg?raw=1\" width=\"500\"/>\n",
        "</div>\n",
        "Congratulation! You have made it so far and know what a typical Decision Tree classifier in python looks like. Please spend a minute to fill out this post workshop survey. Your feedback means a lot to us."
      ]
    },
    {
      "cell_type": "markdown",
      "source": [
        "### references\n",
        "https://www.youtube.com/watch?v=7eh4d6sabA0&ab_channel=ProgrammingwithMosh\n",
        "https://github.com/hmartin11/USS_ML_Workshop\n",
        "https://www.edureka.co/blog/decision-trees/\n",
        "\n"
      ],
      "metadata": {
        "collapsed": false,
        "id": "kICiNHCer_qQ"
      },
      "id": "kICiNHCer_qQ"
    },
    {
      "cell_type": "code",
      "execution_count": null,
      "outputs": [],
      "source": [],
      "metadata": {
        "pycharm": {
          "is_executing": true
        },
        "id": "6Ppq8jqCr_qR"
      },
      "id": "6Ppq8jqCr_qR"
    }
  ],
  "metadata": {
    "celltoolbar": "Slideshow",
    "kernelspec": {
      "name": "python3",
      "language": "python",
      "display_name": "Python 3 (ipykernel)"
    },
    "language_info": {
      "codemirror_mode": {
        "name": "ipython",
        "version": 3
      },
      "file_extension": ".py",
      "mimetype": "text/x-python",
      "name": "python",
      "nbconvert_exporter": "python",
      "pygments_lexer": "ipython3",
      "version": "3.10.4"
    },
    "colab": {
      "provenance": []
    }
  },
  "nbformat": 4,
  "nbformat_minor": 5
}